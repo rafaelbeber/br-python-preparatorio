{
 "cells": [
  {
   "cell_type": "markdown",
   "metadata": {
    "colab_type": "text",
    "id": "8YqaSZgXYJ5g"
   },
   "source": [
    "![](https://i.imgur.com/YX6UATs.png)\n"
   ]
  },
  {
   "cell_type": "markdown",
   "metadata": {
    "colab_type": "text",
    "id": "hhUVzDipaGb9"
   },
   "source": [
    "### **Exercícios de Python - 3** \n",
    "\n",
    "\n",
    "\n"
   ]
  },
  {
   "cell_type": "markdown",
   "metadata": {
    "colab_type": "text",
    "id": "7O6AZt8-aGlr"
   },
   "source": [
    "1 - Classe Bola:\\\n",
    "Crie uma classe que modele uma bola:\n",
    "\n",
    "Atributos: Cor, material\\\n",
    "Métodos: trocaCor "
   ]
  },
  {
   "cell_type": "code",
   "execution_count": 12,
   "metadata": {
    "colab": {},
    "colab_type": "code",
    "id": "ibipMzmZcfIF"
   },
   "outputs": [],
   "source": [
    "class Bola():\n",
    "    def __init__(self,cor, material):\n",
    "        self.cor = cor\n",
    "        self.material = material\n",
    "    \n",
    "    def trocaCor(self,cor):\n",
    "        self.cor = cor"
   ]
  },
  {
   "cell_type": "code",
   "execution_count": 13,
   "metadata": {},
   "outputs": [],
   "source": [
    "adidas = Bola('Branca', 'Couro')"
   ]
  },
  {
   "cell_type": "code",
   "execution_count": 14,
   "metadata": {},
   "outputs": [
    {
     "data": {
      "text/plain": [
       "'Couro'"
      ]
     },
     "execution_count": 14,
     "metadata": {},
     "output_type": "execute_result"
    }
   ],
   "source": [
    "adidas.material"
   ]
  },
  {
   "cell_type": "code",
   "execution_count": 15,
   "metadata": {},
   "outputs": [
    {
     "data": {
      "text/plain": [
       "'Branca'"
      ]
     },
     "execution_count": 15,
     "metadata": {},
     "output_type": "execute_result"
    }
   ],
   "source": [
    "adidas.cor"
   ]
  },
  {
   "cell_type": "code",
   "execution_count": 16,
   "metadata": {},
   "outputs": [],
   "source": [
    "adidas.trocaCor('Amarelo')"
   ]
  },
  {
   "cell_type": "code",
   "execution_count": 17,
   "metadata": {},
   "outputs": [
    {
     "data": {
      "text/plain": [
       "'Amarelo'"
      ]
     },
     "execution_count": 17,
     "metadata": {},
     "output_type": "execute_result"
    }
   ],
   "source": [
    "adidas.cor"
   ]
  },
  {
   "cell_type": "markdown",
   "metadata": {
    "colab_type": "text",
    "id": "c62cM2VlKFqN"
   },
   "source": [
    "2 - Classe Quadrado: Crie uma classe que modele um quadrado:\n",
    "\n",
    "Atributos: Tamanho do lado\n",
    "Métodos: Mudar valor do Lado e calcular Área;"
   ]
  },
  {
   "cell_type": "code",
   "execution_count": 44,
   "metadata": {
    "colab": {},
    "colab_type": "code",
    "id": "M_5mNjNbKFMI"
   },
   "outputs": [],
   "source": [
    "class Quadrado():\n",
    "    def __init__(self,tamanho):\n",
    "        self.tamanho = tamanho\n",
    "    \n",
    "    def mudaValorLado(self,valor):\n",
    "        self.tamanho = valor\n",
    "    \n",
    "    def calculaArea(self):\n",
    "        return self.tamanho**2"
   ]
  },
  {
   "cell_type": "code",
   "execution_count": 50,
   "metadata": {},
   "outputs": [],
   "source": [
    "porta = Quadrado(2)"
   ]
  },
  {
   "cell_type": "code",
   "execution_count": 51,
   "metadata": {},
   "outputs": [
    {
     "data": {
      "text/plain": [
       "4"
      ]
     },
     "execution_count": 51,
     "metadata": {},
     "output_type": "execute_result"
    }
   ],
   "source": [
    "porta.calculaArea()"
   ]
  },
  {
   "cell_type": "code",
   "execution_count": 52,
   "metadata": {},
   "outputs": [],
   "source": [
    "porta.mudaValorLado(3)"
   ]
  },
  {
   "cell_type": "code",
   "execution_count": null,
   "metadata": {},
   "outputs": [],
   "source": [
    "porta.calculaArea()"
   ]
  },
  {
   "cell_type": "markdown",
   "metadata": {
    "colab_type": "text",
    "id": "qMGp-h8OaGqr"
   },
   "source": [
    "3 - Classe funcionário \\\n",
    "Crie uma classe que crie funcionários de uma empresa.\\\n",
    "Atributos: Nome, Função, Salário. \\\n",
    "Métodos: aumento anual. O aumento anual deve ser de 10%.\\\n",
    "Crie dois objetos e dê um aument de 10% a um deles e um aumento de 20% ao outro."
   ]
  },
  {
   "cell_type": "code",
   "execution_count": 10,
   "metadata": {
    "colab": {},
    "colab_type": "code",
    "id": "3lzz274Thi0Y"
   },
   "outputs": [],
   "source": [
    "class Funcionario():\n",
    "    def __init__(self, nome, funcao, salario=1000):\n",
    "        self.nome = nome\n",
    "        self.funcao = funcao\n",
    "        self.salario = salario\n",
    "    \n",
    "    def aumentoAnual(self, porcento = 0.1):\n",
    "        self.salario = self.salario+self.salario*porcento"
   ]
  },
  {
   "cell_type": "code",
   "execution_count": 11,
   "metadata": {},
   "outputs": [],
   "source": [
    "rafa = Funcionario('Rafael','Analista', 2000)\n",
    "ana = Funcionario('Ana','Fiscal')"
   ]
  },
  {
   "cell_type": "code",
   "execution_count": 12,
   "metadata": {},
   "outputs": [],
   "source": [
    "rafa.aumentoAnual()\n",
    "ana.aumentoAnual(0.2)"
   ]
  },
  {
   "cell_type": "code",
   "execution_count": 15,
   "metadata": {},
   "outputs": [
    {
     "data": {
      "text/plain": [
       "2200.0"
      ]
     },
     "execution_count": 15,
     "metadata": {},
     "output_type": "execute_result"
    }
   ],
   "source": [
    "rafa.salario"
   ]
  },
  {
   "cell_type": "code",
   "execution_count": 16,
   "metadata": {},
   "outputs": [
    {
     "data": {
      "text/plain": [
       "1200.0"
      ]
     },
     "execution_count": 16,
     "metadata": {},
     "output_type": "execute_result"
    }
   ],
   "source": [
    "ana.salario"
   ]
  },
  {
   "cell_type": "markdown",
   "metadata": {
    "colab_type": "text",
    "id": "lCMWrvt3P4_x"
   },
   "source": [
    "04 - Utilizando a biblioteca Numpy, obtenha as médias, medianas e desvios padrão de altura, peso e IMC dos membros do dicionário a seguir:\\\n",
    "Trasforme os dicionários em um numpy array e utilize os métodos próprios dessa classe."
   ]
  },
  {
   "cell_type": "code",
   "execution_count": 1,
   "metadata": {
    "colab": {},
    "colab_type": "code",
    "id": "l4qtSxU7XquB"
   },
   "outputs": [],
   "source": [
    "clientes = {'Charlotte': {'altura': 1.56, 'imc': 21, 'peso': 52, 'sexo': 'F'},\n",
    " 'Claudia': {'altura': 1.56, 'imc': 25, 'peso': 62, 'sexo': 'F'},\n",
    " 'Jonas': {'altura': 1.56, 'imc': 21, 'peso': 52, 'sexo': 'M'},\n",
    " 'Martha': {'altura': 1.98, 'imc': 19, 'peso': 76, 'sexo': 'F'},\n",
    " 'Mikkel': {'altura': 1.56, 'imc': 28, 'peso': 67, 'sexo': 'M'},\n",
    " 'Ulrich': {'altura': 1.92, 'imc': 22, 'peso': 80, 'sexo': 'M'}}"
   ]
  },
  {
   "cell_type": "code",
   "execution_count": 30,
   "metadata": {},
   "outputs": [],
   "source": [
    "lista_altura = []\n",
    "lista_peso = []\n",
    "lista_imc = []\n",
    "\n",
    "for cliente in clientes:\n",
    "    lista_altura.append(clientes[cliente]['altura'])\n",
    "    lista_peso.append(clientes[cliente]['peso'])\n",
    "    lista_imc.append(clientes[cliente]['imc'])"
   ]
  },
  {
   "cell_type": "code",
   "execution_count": 4,
   "metadata": {},
   "outputs": [],
   "source": [
    "import numpy as np"
   ]
  },
  {
   "cell_type": "code",
   "execution_count": 5,
   "metadata": {},
   "outputs": [
    {
     "name": "stdout",
     "output_type": "stream",
     "text": [
      "A media de altura é 1.6900000000000002\n"
     ]
    }
   ],
   "source": [
    "print(f'A media de altura é {np.mean(lista_altura)}')"
   ]
  },
  {
   "cell_type": "code",
   "execution_count": 6,
   "metadata": {},
   "outputs": [
    {
     "name": "stdout",
     "output_type": "stream",
     "text": [
      "A media de peso é 64.83333333333333\n"
     ]
    }
   ],
   "source": [
    "print(f'A media de peso é {np.mean(lista_peso)}')"
   ]
  },
  {
   "cell_type": "code",
   "execution_count": 7,
   "metadata": {
    "colab": {},
    "colab_type": "code",
    "id": "nv9z8He8hOLf"
   },
   "outputs": [
    {
     "name": "stdout",
     "output_type": "stream",
     "text": [
      "A media do IMC é 22.666666666666668\n"
     ]
    }
   ],
   "source": [
    "print(f'A media do IMC é {np.mean(lista_imc)}')"
   ]
  },
  {
   "cell_type": "code",
   "execution_count": 8,
   "metadata": {},
   "outputs": [
    {
     "name": "stdout",
     "output_type": "stream",
     "text": [
      "A mediana da Altura é 1.56\n"
     ]
    }
   ],
   "source": [
    "print(f'A mediana da Altura é {np.median(lista_altura)}')"
   ]
  },
  {
   "cell_type": "code",
   "execution_count": 9,
   "metadata": {},
   "outputs": [
    {
     "name": "stdout",
     "output_type": "stream",
     "text": [
      "A mediana do Peso é 64.5\n"
     ]
    }
   ],
   "source": [
    "print(f'A mediana do Peso é {np.median(lista_peso)}')"
   ]
  },
  {
   "cell_type": "code",
   "execution_count": 10,
   "metadata": {},
   "outputs": [
    {
     "name": "stdout",
     "output_type": "stream",
     "text": [
      "A mediana do IMC é 21.5\n"
     ]
    }
   ],
   "source": [
    "print(f'A mediana do IMC é {np.median(lista_imc)}')"
   ]
  },
  {
   "cell_type": "code",
   "execution_count": 11,
   "metadata": {},
   "outputs": [
    {
     "name": "stdout",
     "output_type": "stream",
     "text": [
      "O desio padrão da Altura é 0.18466185312619385\n"
     ]
    }
   ],
   "source": [
    "print(f'O desio padrão da Altura é {np.std(lista_altura)}')"
   ]
  },
  {
   "cell_type": "code",
   "execution_count": 12,
   "metadata": {},
   "outputs": [
    {
     "name": "stdout",
     "output_type": "stream",
     "text": [
      "O desio padrão do Peso é 10.77677544021814\n"
     ]
    }
   ],
   "source": [
    "print(f'O desio padrão do Peso é {np.std(lista_peso)}')"
   ]
  },
  {
   "cell_type": "code",
   "execution_count": 33,
   "metadata": {},
   "outputs": [
    {
     "name": "stdout",
     "output_type": "stream",
     "text": [
      "O desio padrão do IMC é 2.981423969999719\n"
     ]
    }
   ],
   "source": [
    "print(f'O desio padrão do IMC é {np.std(lista_imc)}')"
   ]
  },
  {
   "cell_type": "markdown",
   "metadata": {
    "colab_type": "text",
    "id": "1a_TuuI6QDWa"
   },
   "source": [
    "05 - Realize o mesmo procedimento com a biblioteca Statistics\n"
   ]
  },
  {
   "cell_type": "code",
   "execution_count": 18,
   "metadata": {},
   "outputs": [],
   "source": [
    "import statistics as st"
   ]
  },
  {
   "cell_type": "code",
   "execution_count": 19,
   "metadata": {
    "colab": {},
    "colab_type": "code",
    "id": "y64mwLBVhN1L"
   },
   "outputs": [
    {
     "name": "stdout",
     "output_type": "stream",
     "text": [
      "A media de altura é 1.69\n"
     ]
    }
   ],
   "source": [
    "print(f'A media de altura é {st.mean(lista_altura)}')"
   ]
  },
  {
   "cell_type": "code",
   "execution_count": 20,
   "metadata": {},
   "outputs": [
    {
     "name": "stdout",
     "output_type": "stream",
     "text": [
      "A media de peso é 64.83333333333333\n"
     ]
    }
   ],
   "source": [
    "print(f'A media de peso é {st.mean(lista_peso)}')"
   ]
  },
  {
   "cell_type": "code",
   "execution_count": 21,
   "metadata": {},
   "outputs": [
    {
     "name": "stdout",
     "output_type": "stream",
     "text": [
      "A media do IMC é 22.666666666666668\n"
     ]
    }
   ],
   "source": [
    "print(f'A media do IMC é {st.mean(lista_imc)}')"
   ]
  },
  {
   "cell_type": "code",
   "execution_count": 22,
   "metadata": {},
   "outputs": [
    {
     "name": "stdout",
     "output_type": "stream",
     "text": [
      "A mediana da Altura é 1.56\n"
     ]
    }
   ],
   "source": [
    "print(f'A mediana da Altura é {st.median(lista_altura)}')"
   ]
  },
  {
   "cell_type": "code",
   "execution_count": 23,
   "metadata": {},
   "outputs": [
    {
     "name": "stdout",
     "output_type": "stream",
     "text": [
      "A mediana do Peso é 64.5\n"
     ]
    }
   ],
   "source": [
    "print(f'A mediana do Peso é {st.median(lista_peso)}')"
   ]
  },
  {
   "cell_type": "code",
   "execution_count": 24,
   "metadata": {},
   "outputs": [
    {
     "name": "stdout",
     "output_type": "stream",
     "text": [
      "A mediana do IMC é 21.5\n"
     ]
    }
   ],
   "source": [
    "print(f'A mediana do IMC é {st.median(lista_imc)}')"
   ]
  },
  {
   "cell_type": "code",
   "execution_count": 26,
   "metadata": {},
   "outputs": [
    {
     "name": "stdout",
     "output_type": "stream",
     "text": [
      "O desio padrão da Altura é 0.18466185312619385\n"
     ]
    }
   ],
   "source": [
    "print(f'O desio padrão da Altura é {st.pstdev(lista_altura)}')"
   ]
  },
  {
   "cell_type": "code",
   "execution_count": 27,
   "metadata": {},
   "outputs": [
    {
     "name": "stdout",
     "output_type": "stream",
     "text": [
      "O desio padrão do Peso é 10.77677544021814\n"
     ]
    }
   ],
   "source": [
    "print(f'O desio padrão do Peso é {st.pstdev(lista_peso)}')"
   ]
  },
  {
   "cell_type": "code",
   "execution_count": 32,
   "metadata": {},
   "outputs": [
    {
     "name": "stdout",
     "output_type": "stream",
     "text": [
      "O desvio padrão do IMC é 2.9814239699997196\n"
     ]
    }
   ],
   "source": [
    "print(f'O desvio padrão do IMC é {st.pstdev(lista_imc)}')"
   ]
  },
  {
   "cell_type": "markdown",
   "metadata": {
    "colab_type": "text",
    "id": "Lm1tOKThnU42"
   },
   "source": [
    "Exercícios adaptados de Python Brasil"
   ]
  }
 ],
 "metadata": {
  "colab": {
   "name": "python_exercises_03.ipynb",
   "provenance": [
    {
     "file_id": "https://github.com/ViniciusBG/br-python-preparatorio/blob/master/python_exercises_03.ipynb",
     "timestamp": 1600388294406
    }
   ]
  },
  "kernelspec": {
   "display_name": "Python 3",
   "language": "python",
   "name": "python3"
  },
  "language_info": {
   "codemirror_mode": {
    "name": "ipython",
    "version": 3
   },
   "file_extension": ".py",
   "mimetype": "text/x-python",
   "name": "python",
   "nbconvert_exporter": "python",
   "pygments_lexer": "ipython3",
   "version": "3.7.6"
  }
 },
 "nbformat": 4,
 "nbformat_minor": 1
}
