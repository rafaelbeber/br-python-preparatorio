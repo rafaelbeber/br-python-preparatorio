{
 "cells": [
  {
   "cell_type": "markdown",
   "metadata": {
    "colab_type": "text",
    "id": "view-in-github"
   },
   "source": [
    "<a href=\"https://colab.research.google.com/github/ViniciusBG/br-python-preparatorio/blob/master/python_exercises_01.ipynb\" target=\"_parent\"><img src=\"https://colab.research.google.com/assets/colab-badge.svg\" alt=\"Open In Colab\"/></a>"
   ]
  },
  {
   "cell_type": "markdown",
   "metadata": {
    "colab_type": "text",
    "id": "8YqaSZgXYJ5g"
   },
   "source": [
    "![](https://i.imgur.com/YX6UATs.png)\n"
   ]
  },
  {
   "cell_type": "markdown",
   "metadata": {
    "colab_type": "text",
    "id": "hhUVzDipaGb9"
   },
   "source": [
    "### **Exercícios de Python - 1** \n",
    "\n",
    "\n",
    "\n"
   ]
  },
  {
   "cell_type": "markdown",
   "metadata": {
    "colab_type": "text",
    "id": "7O6AZt8-aGlr"
   },
   "source": [
    "1 - Faça um Programa que peça dois números e imprima a soma.\n"
   ]
  },
  {
   "cell_type": "code",
   "execution_count": 4,
   "metadata": {
    "colab": {},
    "colab_type": "code",
    "id": "ibipMzmZcfIF"
   },
   "outputs": [
    {
     "data": {
      "text/plain": [
       "11"
      ]
     },
     "execution_count": 4,
     "metadata": {},
     "output_type": "execute_result"
    }
   ],
   "source": [
    "def soma(a,b):\n",
    "  return a+b\n",
    "\n",
    "soma(5,6)"
   ]
  },
  {
   "cell_type": "markdown",
   "metadata": {
    "colab_type": "text",
    "id": "c62cM2VlKFqN"
   },
   "source": [
    "2 - Faça uma função que informe a quantidade de dígitos de um determinado número inteiro informado."
   ]
  },
  {
   "cell_type": "code",
   "execution_count": 5,
   "metadata": {
    "colab": {},
    "colab_type": "code",
    "id": "M_5mNjNbKFMI"
   },
   "outputs": [
    {
     "name": "stdout",
     "output_type": "stream",
     "text": [
      "Informe um numero 123\n"
     ]
    },
    {
     "data": {
      "text/plain": [
       "'O numero informado posui 3 digitos'"
      ]
     },
     "execution_count": 5,
     "metadata": {},
     "output_type": "execute_result"
    }
   ],
   "source": [
    "def quantidade_digitos(numero):\n",
    "  return f'O numero informado possui {len(str(numero))} digitos'  \n",
    "\n",
    "numero_informado = input('Informe um numero ')\n",
    "quantidade_digitos(numero_informado)"
   ]
  },
  {
   "cell_type": "markdown",
   "metadata": {
    "colab_type": "text",
    "id": "qMGp-h8OaGqr"
   },
   "source": [
    "3 - Faça um programa, com uma função que necessite de três argumentos, e que forneça a soma desses três argumentos."
   ]
  },
  {
   "cell_type": "code",
   "execution_count": 6,
   "metadata": {
    "colab": {},
    "colab_type": "code",
    "id": "kTg-D89NdCld"
   },
   "outputs": [
    {
     "name": "stdout",
     "output_type": "stream",
     "text": [
      "Informe o primeiro numero 5\n",
      "Informe o segundo numero 17\n",
      "Informe o terceiro numero 564\n"
     ]
    },
    {
     "data": {
      "text/plain": [
       "'A soma dos tres numero é :586'"
      ]
     },
     "execution_count": 6,
     "metadata": {},
     "output_type": "execute_result"
    }
   ],
   "source": [
    "def soma_tres_numeros(n1,n2,n3):\n",
    "  return f'A soma dos três numero é :{str(n1+n2+n3)}'\n",
    "\n",
    "num1 = int(input('Informe o primeiro numero '))\n",
    "num2 = int(input('Informe o segundo numero '))\n",
    "num3 = int(input('Informe o terceiro numero '))\n",
    "\n",
    "soma_tres_numeros(num1,num2,num3)"
   ]
  },
  {
   "cell_type": "markdown",
   "metadata": {
    "colab_type": "text",
    "id": "KdLXZftIaG60"
   },
   "source": [
    "4 - Faça um Programa que peça a temperatura em graus Celsius, transforme e mostre em graus Fahrenheit. \\\n",
    "*Dica: procure a fórmula para essa conversão na internet*"
   ]
  },
  {
   "cell_type": "code",
   "execution_count": 8,
   "metadata": {
    "colab": {},
    "colab_type": "code",
    "id": "990mQ6UhdwKl"
   },
   "outputs": [
    {
     "name": "stdout",
     "output_type": "stream",
     "text": [
      "Informe a temperatura em graus Celsius 32.4\n"
     ]
    },
    {
     "data": {
      "text/plain": [
       "'fahrenheit = 90.32'"
      ]
     },
     "execution_count": 8,
     "metadata": {},
     "output_type": "execute_result"
    }
   ],
   "source": [
    "def converte_celsius_fahrenheit(temp):\n",
    "    return f'fahrenheit = {temp * 1.8 + 32}'\n",
    "\n",
    "celsius = float(input('Informe a temperatura em graus Celsius '))\n",
    "\n",
    "converte_celsius_fahrenheit(celsius)"
   ]
  },
  {
   "cell_type": "markdown",
   "metadata": {
    "colab_type": "text",
    "id": "FTK9nE4pdB1D"
   },
   "source": [
    "5 - Faça um Programa que pergunte quanto você ganha por hora e o número de horas trabalhadas no mês. Calcule e mostre o total do seu salário no referido mês.\n"
   ]
  },
  {
   "cell_type": "code",
   "execution_count": 9,
   "metadata": {
    "colab": {},
    "colab_type": "code",
    "id": "nW4SbDxTmx4t"
   },
   "outputs": [
    {
     "name": "stdout",
     "output_type": "stream",
     "text": [
      "Informe o valor por hora trabalhada 95\n",
      "Informe o numero de horas trabalhadas44\n"
     ]
    },
    {
     "data": {
      "text/plain": [
       "'Seu salario é de R$  4180.0'"
      ]
     },
     "execution_count": 9,
     "metadata": {},
     "output_type": "execute_result"
    }
   ],
   "source": [
    "def calcula_salario(valor_hora, horas):\n",
    "    return f'Seu salario é de R$  {str(horas*valor_hora)}'\n",
    "\n",
    "valor_hora_inf = float(input('Informe o valor por hora trabalhada '))\n",
    "horas_inf = int(input('Informe o numero de horas trabalhadas '))\n",
    "\n",
    "calcula_salario(valor_hora_inf,horas_inf)"
   ]
  },
  {
   "cell_type": "markdown",
   "metadata": {
    "colab_type": "text",
    "id": "_HbJNv8MaG4g"
   },
   "source": [
    "6 - Faça um programa para uma loja de tintas. O programa deverá pedir o tamanho em metros quadrados da área a ser pintada. Considere que a cobertura da tinta é de 1 litro para cada 3 metros quadrados e que a tinta é vendida em latas de 18 litros, que custam R$ 80,00. Informe ao usuário a quantidades de latas de tinta a serem compradas e o preço total."
   ]
  },
  {
   "cell_type": "code",
   "execution_count": 13,
   "metadata": {
    "colab": {},
    "colab_type": "code",
    "id": "LJDxmAbJeO9V"
   },
   "outputs": [
    {
     "name": "stdout",
     "output_type": "stream",
     "text": [
      "Informe quantos metros deseja pintar 55\n"
     ]
    },
    {
     "data": {
      "text/plain": [
       "'A quantidade de latas necessarias para pintar 55.0 metros quadrados é de 2 latas'"
      ]
     },
     "execution_count": 13,
     "metadata": {},
     "output_type": "execute_result"
    }
   ],
   "source": [
    "import math\n",
    "\n",
    "def quantidade_latas(metros):\n",
    "  litros = metros/3\n",
    "  latas = math.ceil(litros/18)\n",
    "  return f'A quantidade de latas necessarias para pintar {metros} metros quadrados é de {latas} latas'\n",
    "\n",
    "metros_informado = float(input('Informe quantos metros deseja pintar '))\n",
    "\n",
    "quantidade_latas(metros_informado)"
   ]
  },
  {
   "cell_type": "markdown",
   "metadata": {
    "colab_type": "text",
    "id": "0tkhm6EUaG1u"
   },
   "source": [
    "7 - Faça um programa para a leitura de duas notas parciais de um aluno. O programa deve calcular a média alcançada por aluno e apresentar:\n",
    "- A mensagem \"Aprovado\", se a média alcançada for maior ou igual a sete;\n",
    "- A mensagem \"Reprovado\", se a média for menor do que sete;\n",
    "- A mensagem \"Aprovado com Distinção\", se a média for igual a dez."
   ]
  },
  {
   "cell_type": "code",
   "execution_count": 15,
   "metadata": {
    "colab": {},
    "colab_type": "code",
    "id": "MNINJ32eU45M"
   },
   "outputs": [
    {
     "name": "stdout",
     "output_type": "stream",
     "text": [
      "Informe a primeira nota 10\n",
      "Informe a segunda nota 10\n"
     ]
    },
    {
     "data": {
      "text/plain": [
       "'Aprovado com Distinção'"
      ]
     },
     "execution_count": 15,
     "metadata": {},
     "output_type": "execute_result"
    }
   ],
   "source": [
    "def calcula_media(nota1,nota2):\n",
    "  media = (nota1+nota2)/2\n",
    "  if media == 10:\n",
    "    return f'Aprovado com Distinção'\n",
    "  elif media >= 7:\n",
    "    return f'Aprovado'\n",
    "  else:\n",
    "    return f'Reprovado'\n",
    "\n",
    "nota1_inf = float(input('Informe a primeira nota '))\n",
    "nota2_inf = float(input('Informe a segunda nota '))\n",
    "\n",
    "calcula_media(nota1_inf,nota2_inf)"
   ]
  },
  {
   "cell_type": "markdown",
   "metadata": {
    "colab_type": "text",
    "id": "4OETBVgmaGzX"
   },
   "source": [
    "8 - Faça um Programa que peça um número inteiro e determine se ele é par ou impar. Dica: utilize o operador módulo (resto da divisão)."
   ]
  },
  {
   "cell_type": "code",
   "execution_count": 16,
   "metadata": {
    "colab": {},
    "colab_type": "code",
    "id": "WbzCimFZVSr1"
   },
   "outputs": [
    {
     "name": "stdout",
     "output_type": "stream",
     "text": [
      "Informe um numero 5\n"
     ]
    },
    {
     "data": {
      "text/plain": [
       "'Numero Impar'"
      ]
     },
     "execution_count": 16,
     "metadata": {},
     "output_type": "execute_result"
    }
   ],
   "source": [
    "def par_ou_impar(numero):\n",
    "  if numero%2 == 0:\n",
    "    return f'Numero Par'\n",
    "  else:\n",
    "    return f'Numero Impar'\n",
    "\n",
    "numero_informado = int(input('Informe um numero '))\n",
    "\n",
    "par_ou_impar(numero_informado)"
   ]
  },
  {
   "cell_type": "markdown",
   "metadata": {
    "colab_type": "text",
    "id": "7zPJ8sgPaGw0"
   },
   "source": [
    "9 - Faça um programa que peça o tamanho de um arquivo para download (em MB) e a velocidade de um link de Internet (em Mbps), calcule e informe o tempo aproximado de download do arquivo usando este link (em minutos)."
   ]
  },
  {
   "cell_type": "code",
   "execution_count": 17,
   "metadata": {
    "colab": {},
    "colab_type": "code",
    "id": "l4qtSxU7XquB"
   },
   "outputs": [
    {
     "name": "stdout",
     "output_type": "stream",
     "text": [
      "Informe o tamanho do arquivo em Megabytes 50\n",
      "Informe a velocidade da sua internet em Megabits 10\n"
     ]
    },
    {
     "data": {
      "text/plain": [
       "'O tempo extimado é de 1.04 minutos'"
      ]
     },
     "execution_count": 17,
     "metadata": {},
     "output_type": "execute_result"
    }
   ],
   "source": [
    "def tempo_download(tamanho, velocidade):\n",
    "  tempo = round(((velocidade/8)*tamanho)/60,2)\n",
    "  return f'O tempo extimado é de {tempo} minutos'\n",
    "\n",
    "tamanho_inf = int(input('Informe o tamanho do arquivo em Megabytes '))\n",
    "velocidade_inf = int(input('Informe a velocidade da sua internet em Megabits '))\n",
    "\n",
    "tempo_download(tamanho_inf, velocidade_inf)"
   ]
  },
  {
   "cell_type": "markdown",
   "metadata": {
    "colab_type": "text",
    "id": "Lm1tOKThnU42"
   },
   "source": [
    "Exercícios adaptados de Python Brasil"
   ]
  }
 ],
 "metadata": {
  "colab": {
   "include_colab_link": true,
   "name": "python_exercises_01.ipynb",
   "provenance": []
  },
  "kernelspec": {
   "display_name": "Python 3",
   "language": "python",
   "name": "python3"
  },
  "language_info": {
   "codemirror_mode": {
    "name": "ipython",
    "version": 3
   },
   "file_extension": ".py",
   "mimetype": "text/x-python",
   "name": "python",
   "nbconvert_exporter": "python",
   "pygments_lexer": "ipython3",
   "version": "3.7.6"
  }
 },
 "nbformat": 4,
 "nbformat_minor": 1
}
