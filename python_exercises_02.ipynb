{
 "cells": [
  {
   "cell_type": "markdown",
   "metadata": {
    "colab_type": "text",
    "id": "view-in-github"
   },
   "source": [
    "<a href=\"https://colab.research.google.com/github/ViniciusBG/br-python-preparatorio/blob/master/python_exercises_02.ipynb\" target=\"_parent\"><img src=\"https://colab.research.google.com/assets/colab-badge.svg\" alt=\"Open In Colab\"/></a>"
   ]
  },
  {
   "cell_type": "markdown",
   "metadata": {
    "colab_type": "text",
    "id": "8YqaSZgXYJ5g"
   },
   "source": [
    "![](https://i.imgur.com/YX6UATs.png)\n"
   ]
  },
  {
   "cell_type": "markdown",
   "metadata": {
    "colab_type": "text",
    "id": "hhUVzDipaGb9"
   },
   "source": [
    "### **Exercícios de Python - 2** \n",
    "\n",
    "\n",
    "\n"
   ]
  },
  {
   "cell_type": "markdown",
   "metadata": {
    "colab_type": "text",
    "id": "7O6AZt8-aGlr"
   },
   "source": [
    "1 - Faça um programa, com uma função que necessite de um argumento. A função retorna o valor de caractere ‘P’, se seu argumento for positivo, e ‘N’, se seu argumento for zero ou negativo.\n"
   ]
  },
  {
   "cell_type": "code",
   "execution_count": 6,
   "metadata": {
    "colab": {},
    "colab_type": "code",
    "id": "ibipMzmZcfIF"
   },
   "outputs": [
    {
     "name": "stdout",
     "output_type": "stream",
     "text": [
      "Informe um valor numérico -1\n"
     ]
    },
    {
     "data": {
      "text/plain": [
       "'N'"
      ]
     },
     "execution_count": 6,
     "metadata": {},
     "output_type": "execute_result"
    }
   ],
   "source": [
    "def positivo_negativo(arg):\n",
    "    if arg > 0:\n",
    "        return f'P'\n",
    "    else:\n",
    "        return f'N'\n",
    "\n",
    "valor = float(input('Informe um valor numérico '))    \n",
    "\n",
    "positivo_negativo(valor)"
   ]
  },
  {
   "cell_type": "markdown",
   "metadata": {
    "colab_type": "text",
    "id": "c62cM2VlKFqN"
   },
   "source": [
    "2 - Faça um programa que leia um nome de usuário e a sua senha e não aceite a senha igual ao nome do usuário, mostrando uma mensagem de erro."
   ]
  },
  {
   "cell_type": "code",
   "execution_count": 9,
   "metadata": {
    "colab": {},
    "colab_type": "code",
    "id": "A3ajzaOSq69B"
   },
   "outputs": [
    {
     "name": "stdout",
     "output_type": "stream",
     "text": [
      "Informe o nome de usuário rafa\n",
      "Informe a senha rafael\n"
     ]
    },
    {
     "data": {
      "text/plain": [
       "'Senha gravada'"
      ]
     },
     "execution_count": 9,
     "metadata": {},
     "output_type": "execute_result"
    }
   ],
   "source": [
    "def gera_senha(usuario,senha):\n",
    "    if usuario == senha:\n",
    "        return f'Senha invalida. Tente novamente.'\n",
    "    else:\n",
    "        return f'Senha gravada'\n",
    "    \n",
    "usua = input('Informe o nome de usuário ')\n",
    "senh = input('Informe a senha ')\n",
    "\n",
    "gera_senha(usua,senh)"
   ]
  },
  {
   "cell_type": "markdown",
   "metadata": {
    "colab_type": "text",
    "id": "KdLXZftIaG60"
   },
   "source": [
    "3 - Faça uma função cujo input é uma lista de números e que retorne a média e a mediana desses números sem a importação de módulos. \\\n",
    "*Dica: procure as fórmulas na internet, caso não se lembre*"
   ]
  },
  {
   "cell_type": "code",
   "execution_count": 67,
   "metadata": {
    "colab": {},
    "colab_type": "code",
    "id": "990mQ6UhdwKl"
   },
   "outputs": [
    {
     "data": {
      "text/plain": [
       "'Lista: [3, 6, 6.5, 7, 8, 9.8, 10] Média: 7.19 Mediana: 7'"
      ]
     },
     "execution_count": 67,
     "metadata": {},
     "output_type": "execute_result"
    }
   ],
   "source": [
    "lista_inf = [3,6,7,8,6.5,9.8,10]\n",
    "\n",
    "def media_mediana(lista):\n",
    "    lista_asc = sorted(lista)\n",
    "    media = round(sum(lista)/len(lista),2)\n",
    "    \n",
    "    if len(lista)%2 > 0:\n",
    "        mediana= round(lista_asc[int(len(lista)/2)])\n",
    "    else:\n",
    "        indice1 = int(len(lista_asc)/2)\n",
    "        indice2 = int(len(lista_asc)/2+0.5)\n",
    "        mediana = round((lista_asc[indice1] + lista_asc[indice2])/2,2)\n",
    "                       \n",
    "    return f'Lista: {lista_asc} Média: {media} Mediana: {mediana}'\n",
    "\n",
    "media_mediana(lista_inf)"
   ]
  },
  {
   "cell_type": "markdown",
   "metadata": {
    "colab_type": "text",
    "id": "qMGp-h8OaGqr"
   },
   "source": [
    "4 - Utilizando listas faça um programa que faça 5 perguntas para uma pessoa sobre um crime. As perguntas são:\n",
    "- \"Telefonou para a vítima?\"\n",
    "- \"Esteve no local do crime?\"\n",
    "- \"Mora perto da vítima?\"\n",
    "- \"Devia para a vítima?\"\n",
    "- \"Já trabalhou com a vítima?\" \\\n",
    "O programa deve no final emitir uma classificação sobre a participação da pessoa no crime. Se a pessoa responder positivamente a 2 questões ela deve ser classificada como \"Suspeita\", entre 3 e 4 como \"Cúmplice\" e 5 como \"Assassino\". Caso contrário, ele será classificado como \"Inocente\"."
   ]
  },
  {
   "cell_type": "code",
   "execution_count": 114,
   "metadata": {
    "colab": {},
    "colab_type": "code",
    "id": "kTg-D89NdCld"
   },
   "outputs": [
    {
     "name": "stdout",
     "output_type": "stream",
     "text": [
      "Telefonou para a vítima? Sim = 1, Não = 0 Resp.: 1\n",
      "Esteve no local do crime? Sim = 1, Não = 0 Resp.: 1\n",
      "Mora perto da vítima? Sim = 1, Não = 0 Resp.: 1\n",
      "Devia para a vítima? Sim = 1, Não = 0 Resp.: 0\n",
      "Já trabalhou com a vítima? Sim = 1, Não = 0 Resp.: 0\n"
     ]
    },
    {
     "data": {
      "text/plain": [
       "'Cúmplice'"
      ]
     },
     "execution_count": 114,
     "metadata": {},
     "output_type": "execute_result"
    }
   ],
   "source": [
    "def decisao(listap):    \n",
    "    total = sum(listap)\n",
    "    \n",
    "    if total >= 5:\n",
    "        return f'Assasino'\n",
    "    elif total >= 3:\n",
    "        return f'Cúmplice'\n",
    "    elif total >= 2:\n",
    "        return f'Suspeita'\n",
    "    else:\n",
    "        return f'Inocente'\n",
    "\n",
    "perguntas = ['Telefonou para a vítima? Sim = 1, Não = 0 Resp.: ','Esteve no local do crime? Sim = 1, Não = 0 Resp.: ','Mora perto da vítima? Sim = 1, Não = 0 Resp.: ','Devia para a vítima? Sim = 1, Não = 0 Resp.: ','Já trabalhou com a vítima? Sim = 1, Não = 0 Resp.: ']\n",
    "\n",
    "respostas = []\n",
    "\n",
    "for pergunta in perguntas:\n",
    "    resposta = int(input(pergunta))\n",
    "    if resposta > 0:\n",
    "        respostas.append(1)\n",
    "    else:\n",
    "        respostas.append(0)\n",
    "                  \n",
    "decisao(respostas)"
   ]
  },
  {
   "cell_type": "markdown",
   "metadata": {
    "colab_type": "text",
    "id": "FTK9nE4pdB1D"
   },
   "source": [
    "5 - A lista abaixo possui nomes de alunos de uma classe. Crie um loop que imprima '{nome} é aluno da classe'\n"
   ]
  },
  {
   "cell_type": "code",
   "execution_count": 72,
   "metadata": {
    "colab": {},
    "colab_type": "code",
    "id": "nW4SbDxTmx4t"
   },
   "outputs": [],
   "source": [
    "nomes =['Maria','João','Marcelo','Jonas','Laura','Luana']"
   ]
  },
  {
   "cell_type": "code",
   "execution_count": 77,
   "metadata": {
    "colab": {},
    "colab_type": "code",
    "id": "0sRr8MXCpbGP"
   },
   "outputs": [
    {
     "name": "stdout",
     "output_type": "stream",
     "text": [
      "Maria é aluno da classe.\n",
      "João é aluno da classe.\n",
      "Marcelo é aluno da classe.\n",
      "Jonas é aluno da classe.\n",
      "Laura é aluno da classe.\n",
      "Luana é aluno da classe.\n"
     ]
    }
   ],
   "source": [
    "for nome in nomes:\n",
    "    print(nome + ' é aluno da classe.')"
   ]
  },
  {
   "cell_type": "markdown",
   "metadata": {
    "colab_type": "text",
    "id": "_HbJNv8MaG4g"
   },
   "source": [
    "6 - Utilizando-se da mesma lista trabalhada acima e a lista dada abaixo, que contem as idades dos alunos, realize um loop que faça a iteração com as duas listas printando \"{nome} tem {idade} anos\".\n",
    "Dica: utilize *zip*()"
   ]
  },
  {
   "cell_type": "code",
   "execution_count": 78,
   "metadata": {
    "colab": {},
    "colab_type": "code",
    "id": "LJDxmAbJeO9V"
   },
   "outputs": [],
   "source": [
    "idades =[23,34,42,54,26,27]"
   ]
  },
  {
   "cell_type": "code",
   "execution_count": 80,
   "metadata": {
    "colab": {},
    "colab_type": "code",
    "id": "Kq1Lc7Ukps-V"
   },
   "outputs": [
    {
     "name": "stdout",
     "output_type": "stream",
     "text": [
      "Maria tem 23 anos.\n",
      "João tem 34 anos.\n",
      "Marcelo tem 42 anos.\n",
      "Jonas tem 54 anos.\n",
      "Laura tem 26 anos.\n",
      "Luana tem 27 anos.\n"
     ]
    }
   ],
   "source": [
    "lista = zip(nomes,idades)\n",
    "for nome, idade in lista:\n",
    "    print(nome + ' tem ' + str(idade) +' anos.')"
   ]
  },
  {
   "cell_type": "markdown",
   "metadata": {
    "colab_type": "text",
    "id": "0tkhm6EUaG1u"
   },
   "source": [
    "7 - Transforme as duas listas anteriores em um dicionário cuja chave é o nome e o valor é a idade."
   ]
  },
  {
   "cell_type": "code",
   "execution_count": 88,
   "metadata": {
    "colab": {},
    "colab_type": "code",
    "id": "MNINJ32eU45M"
   },
   "outputs": [
    {
     "name": "stdout",
     "output_type": "stream",
     "text": [
      "{'Maria': 23, 'João': 34, 'Marcelo': 42, 'Jonas': 54, 'Laura': 26, 'Luana': 27}\n"
     ]
    }
   ],
   "source": [
    "lista = zip(nomes,idades)\n",
    "dicionario = {}\n",
    "for nome, idade in lista:\n",
    "    dicionario[nome] = idade\n",
    "\n",
    "print(dicionario)"
   ]
  },
  {
   "cell_type": "markdown",
   "metadata": {
    "colab_type": "text",
    "id": "Lm1tOKThnU42"
   },
   "source": [
    "Exercícios adaptados de Python Brasil"
   ]
  }
 ],
 "metadata": {
  "colab": {
   "include_colab_link": true,
   "name": "python_exercises_02.ipynb",
   "provenance": []
  },
  "kernelspec": {
   "display_name": "Python 3",
   "language": "python",
   "name": "python3"
  },
  "language_info": {
   "codemirror_mode": {
    "name": "ipython",
    "version": 3
   },
   "file_extension": ".py",
   "mimetype": "text/x-python",
   "name": "python",
   "nbconvert_exporter": "python",
   "pygments_lexer": "ipython3",
   "version": "3.7.6"
  }
 },
 "nbformat": 4,
 "nbformat_minor": 1
}
